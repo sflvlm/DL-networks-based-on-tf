{
 "cells": [
  {
   "cell_type": "code",
   "execution_count": 1,
   "metadata": {},
   "outputs": [
    {
     "name": "stdout",
     "output_type": "stream",
     "text": [
      "v1: [[ 0.28281984 -0.5523099 ]]\n",
      "v2: [[ 0.7647775   1.5050621  -0.6650642 ]\n",
      " [ 0.6636771   0.02539043 -1.1074504 ]]\n",
      "Model saved in file: save/model.ckpt\n"
     ]
    }
   ],
   "source": [
    "import tensorflow as tf\n",
    "\n",
    "v1 = tf.Variable(tf.random_normal([1,2]),name='v1')\n",
    "v2 = tf.Variable(tf.random_normal([2,3]),name='v2')\n",
    "init_op = tf.global_variables_initializer()\n",
    "saver = tf.train.Saver()\n",
    "with tf.Session() as sess:\n",
    "    sess.run(init_op)\n",
    "    print('v1:', sess.run(v1))\n",
    "    print('v2:', sess.run(v2))\n",
    "    saver_path = saver.save(sess, 'save/model.ckpt')\n",
    "    print('Model saved in file:', saver_path)"
   ]
  },
  {
   "cell_type": "code",
   "execution_count": 1,
   "metadata": {},
   "outputs": [
    {
     "name": "stdout",
     "output_type": "stream",
     "text": [
      "WARNING:tensorflow:From d:\\virtualenv\\ml3\\lib\\site-packages\\tensorflow\\python\\training\\saver.py:1276: checkpoint_exists (from tensorflow.python.training.checkpoint_management) is deprecated and will be removed in a future version.\n",
      "Instructions for updating:\n",
      "Use standard file APIs to check for files with this prefix.\n",
      "INFO:tensorflow:Restoring parameters from save/model.ckpt\n",
      "v1: [[ 0.28281984 -0.5523099 ]]\n",
      "v2: [[ 0.7647775   1.5050621  -0.6650642 ]\n",
      " [ 0.6636771   0.02539043 -1.1074504 ]]\n",
      "Model restored\n"
     ]
    }
   ],
   "source": [
    "import tensorflow as tf\n",
    "\n",
    "v1 = tf.Variable(tf.random_normal([1,2]),name='v1')\n",
    "v2 = tf.Variable(tf.random_normal([2,3]),name='v2')\n",
    "saver = tf.train.Saver()\n",
    "with tf.Session() as sess:\n",
    "    saver.restore(sess, 'save/model.ckpt')\n",
    "    print('v1:', sess.run(v1))\n",
    "    print('v2:', sess.run(v2))\n",
    "    print('Model restored')"
   ]
  },
  {
   "cell_type": "code",
   "execution_count": null,
   "metadata": {},
   "outputs": [],
   "source": []
  }
 ],
 "metadata": {
  "kernelspec": {
   "display_name": "Python 3",
   "language": "python",
   "name": "python3"
  },
  "language_info": {
   "codemirror_mode": {
    "name": "ipython",
    "version": 3
   },
   "file_extension": ".py",
   "mimetype": "text/x-python",
   "name": "python",
   "nbconvert_exporter": "python",
   "pygments_lexer": "ipython3",
   "version": "3.6.8"
  }
 },
 "nbformat": 4,
 "nbformat_minor": 2
}
