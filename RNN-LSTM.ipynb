{
 "cells": [
  {
   "cell_type": "code",
   "execution_count": 5,
   "metadata": {},
   "outputs": [
    {
     "name": "stdout",
     "output_type": "stream",
     "text": [
      "Extracting MNIST_data/train-images-idx3-ubyte.gz\n",
      "Extracting MNIST_data/train-labels-idx1-ubyte.gz\n",
      "Extracting MNIST_data/t10k-images-idx3-ubyte.gz\n",
      "Extracting MNIST_data/t10k-labels-idx1-ubyte.gz\n"
     ]
    },
    {
     "data": {
      "text/plain": [
       "(55000, 10000, 784, 10)"
      ]
     },
     "execution_count": 5,
     "metadata": {},
     "output_type": "execute_result"
    }
   ],
   "source": [
    "import numpy as np\n",
    "import tensorflow as tf\n",
    "import matplotlib.pyplot as plt\n",
    "from tensorflow.examples.tutorials.mnist import input_data\n",
    "\n",
    "import warnings\n",
    "warnings.filterwarnings('ignore')\n",
    "\n",
    "mnist = input_data.read_data_sets('MNIST_data/', one_hot=True)\n",
    "trainimgs = mnist.train.images\n",
    "trainlabels = mnist.train.labels\n",
    "testimgs = mnist.test.images\n",
    "testlabels = mnist.test.labels\n",
    "ntrain, ntest, dim, nclasses = trainimgs.shape[0], testimgs.shape[0], trainimgs.shape[1],trainlabels.shape[1]\n",
    "ntrain, ntest, dim, nclasses"
   ]
  },
  {
   "cell_type": "code",
   "execution_count": 2,
   "metadata": {},
   "outputs": [],
   "source": [
    "diminput = 28\n",
    "dimhidden = 128\n",
    "dimoutput = nclasses\n",
    "nsteps = 28\n",
    "weights = {\n",
    "    'hidden': tf.Variable(tf.random_normal([diminput,dimhidden])),\n",
    "    'out': tf.Variable(tf.random_normal([dimhidden,dimoutput]))\n",
    "}\n",
    "b = {\n",
    "    'hidden': tf.Variable(tf.random_normal([dimhidden])),\n",
    "    'out': tf.Variable(tf.random_normal([dimoutput]))\n",
    "}"
   ]
  },
  {
   "cell_type": "code",
   "execution_count": 8,
   "metadata": {},
   "outputs": [],
   "source": [
    "def _RNN(_X, _W, _b, _nsteps, _name):\n",
    "    # 1. Permute input from [batchsize, nsteps, diminput]\n",
    "    #    => [nsteps, batchsize, diminput]\n",
    "    _X = tf.transpose(_X, [1, 0, 2])\n",
    "    # 2. Reshape input to [nsteps*batchsize, diminput]\n",
    "    _X = tf.reshape(_X, [-1, diminput])\n",
    "    # 3. Input layer => Hidden layer\n",
    "    _H = tf.matmul(_X, _W['hidden'] + _b['hidden'])\n",
    "    # 4. Splite data to 'nsteps' chunks. An i-th chunck indices i-th batch data\n",
    "    _Hsplit = tf.split(_H, _nsteps, 0)\n",
    "    # 5. Get LSTM's final output (_LSTM_O) and state (_LSTM_S)\n",
    "    #   Both _LSTM_O and _LSTM_S consist of 'batchsize' elements\n",
    "    #   Only _LSTM_O will be used to predict the output\n",
    "    with tf.variable_scope(_name) as scope:\n",
    "        \n",
    "        scope.reuse_variables()\n",
    "        lstm_cell = tf.contrib.rnn.BasicLSTMCell(dimhidden, forget_bias=1.0)\n",
    "        _LSTM_O, _LSTM_S = tf.nn.static_rnn(lstm_cell, _Hsplit, dtype = tf.float32)\n",
    "    # 6. Output\n",
    "    _O = tf.matmul(_LSTM_O[-1], _W['out']) + _b['out']\n",
    "    # Return \n",
    "    return {\n",
    "        'X': _X, 'H': _H, 'Hsplit': _Hsplit,\n",
    "        'LSTM_O': _LSTM_O, 'LSTM_S': _LSTM_S, 'O': _O\n",
    "    }"
   ]
  },
  {
   "cell_type": "code",
   "execution_count": 9,
   "metadata": {},
   "outputs": [],
   "source": [
    "learning_rate = 0.001\n",
    "x = tf.placeholder('float', [None, nsteps, diminput])\n",
    "y = tf.placeholder('float', [None, dimoutput])\n",
    "myrnn = _RNN(x, weights, b, nsteps, 'basic')\n",
    "pred = myrnn['O']\n",
    "cost = tf.reduce_mean(tf.nn.softmax_cross_entropy_with_logits(logits=pred, labels=y))\n",
    "optm = tf.train.GradientDescentOptimizer(learning_rate).minimize(cost)\n",
    "accr = tf.reduce_mean(tf.cast(tf.equal(tf.argmax(pred,1),tf.argmax(y,1)), tf.float32))\n",
    "init = tf.global_variables_initializer()\n"
   ]
  },
  {
   "cell_type": "code",
   "execution_count": 11,
   "metadata": {},
   "outputs": [
    {
     "name": "stdout",
     "output_type": "stream",
     "text": [
      "Epoch: 000/005 cost: 1.605114360 train_acc: 0.750 \n",
      "Epoch: 001/005 cost: 1.171595551 train_acc: 0.688 \n",
      "Epoch: 002/005 cost: 0.999480328 train_acc: 0.688 \n",
      "Epoch: 003/005 cost: 0.953950666 train_acc: 0.938 \n",
      "Epoch: 004/005 cost: 0.924855090 train_acc: 0.812 \n",
      "Done\n"
     ]
    }
   ],
   "source": [
    "training_epochs = 5\n",
    "batch_size = 16\n",
    "display_step = 1\n",
    "#Session\n",
    "sess = tf.Session()\n",
    "sess.run(init)\n",
    "# mini-batch learning\n",
    "for epoch in range(training_epochs):\n",
    "    avg_cost = 0.\n",
    "    # total_batch = int(mnist.train.num_examples/batch_size)\n",
    "    total_batch=100\n",
    "    for i in range(total_batch):\n",
    "        batch_xs, batch_ys = mnist.train.next_batch(batch_size)\n",
    "        batch_xs = batch_xs.reshape((batch_size, nsteps, diminput))\n",
    "        feeds={x:batch_xs, y:batch_ys}\n",
    "        sess.run(optm,feed_dict=feeds)\n",
    "        avg_cost += sess.run(cost, feed_dict=feeds)/total_batch\n",
    "    #display\n",
    "    if epoch % display_step == 0:\n",
    "        feeds_train = {x:batch_xs, y:batch_ys}\n",
    "#         feeds_test = {x:mnist.test.images, y:mnist.test.labels, keepratio:1.0}\n",
    "        train_acc = sess.run(accr, feed_dict=feeds_train)\n",
    "#         test_acc = sess.run(accr, feed_dict = feeds_test)\n",
    "        print(\"Epoch: %03d/%03d cost: %.9f train_acc: %.3f \"%\n",
    "             (epoch, training_epochs, avg_cost, train_acc))\n",
    "print('Done')"
   ]
  },
  {
   "cell_type": "code",
   "execution_count": null,
   "metadata": {},
   "outputs": [],
   "source": []
  }
 ],
 "metadata": {
  "kernelspec": {
   "display_name": "Python 3",
   "language": "python",
   "name": "python3"
  },
  "language_info": {
   "codemirror_mode": {
    "name": "ipython",
    "version": 3
   },
   "file_extension": ".py",
   "mimetype": "text/x-python",
   "name": "python",
   "nbconvert_exporter": "python",
   "pygments_lexer": "ipython3",
   "version": "3.6.8"
  }
 },
 "nbformat": 4,
 "nbformat_minor": 2
}
