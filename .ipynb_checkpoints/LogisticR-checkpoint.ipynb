{
 "cells": [
  {
   "cell_type": "code",
   "execution_count": 2,
   "metadata": {},
   "outputs": [
    {
     "name": "stdout",
     "output_type": "stream",
     "text": [
      "Extracting MNIST_data/train-images-idx3-ubyte.gz\n",
      "Extracting MNIST_data/train-labels-idx1-ubyte.gz\n",
      "Extracting MNIST_data/t10k-images-idx3-ubyte.gz\n",
      "Extracting MNIST_data/t10k-labels-idx1-ubyte.gz\n"
     ]
    }
   ],
   "source": [
    "import numpy as np\n",
    "import tensorflow as tf\n",
    "import matplotlib.pyplot as plt\n",
    "from tensorflow.examples.tutorials.mnist import input_data\n",
    "\n",
    "import warnings\n",
    "warnings.filterwarnings('ignore')\n",
    "\n",
    "mnist = input_data.read_data_sets('MNIST_data/', one_hot=True)\n",
    "trainimg = mnist.train.images\n",
    "trainlabel = mnist.train.labels\n",
    "testimg = mnist.test.images\n",
    "testlabel = mnist.test.labels"
   ]
  },
  {
   "cell_type": "code",
   "execution_count": 4,
   "metadata": {},
   "outputs": [
    {
     "name": "stdout",
     "output_type": "stream",
     "text": [
      "(55000, 784)\n",
      "(55000, 10)\n",
      "(10000, 784)\n",
      "(10000, 10)\n",
      "[0. 0. 0. 0. 0. 0. 0. 1. 0. 0.]\n"
     ]
    }
   ],
   "source": [
    "print(trainimg.shape)\n",
    "print(trainlabel.shape)\n",
    "print(testimg.shape)\n",
    "print(testlabel.shape)\n",
    "print(trainlabel[0])"
   ]
  },
  {
   "cell_type": "code",
   "execution_count": 5,
   "metadata": {},
   "outputs": [],
   "source": [
    "x = tf.placeholder('float',[None, 784])\n",
    "y = tf.placeholder('float',[None, 10])\n",
    "W = tf.Variable(tf.zeros([784, 10]))\n",
    "b = tf.Variable(tf.zeros([10]))\n",
    "# Logistic Regression model\n",
    "actv = tf.nn.softmax(tf.matmul(x, W) + b)\n",
    "# cost function\n",
    "cost = tf.reduce_mean(-tf.reduce_sum(y*tf.log(actv), reduction_indices=1))\n",
    "# optimizer\n",
    "learning_rate = 0.01\n",
    "optm = tf.train.GradientDescentOptimizer(learning_rate).minimize(cost)"
   ]
  },
  {
   "cell_type": "code",
   "execution_count": 6,
   "metadata": {},
   "outputs": [],
   "source": [
    "# prediction\n",
    "pred = tf.equal(tf.argmax(actv, 1), tf.argmax(y, 1))\n",
    "# accuracy\n",
    "accr = tf.reduce_mean(tf.cast(pred, 'float'))\n",
    "# initializer\n",
    "init = tf.global_variables_initializer()"
   ]
  },
  {
   "cell_type": "code",
   "execution_count": 7,
   "metadata": {},
   "outputs": [
    {
     "data": {
      "text/plain": [
       "array([0, 3, 2, 4, 0, 1], dtype=int64)"
      ]
     },
     "execution_count": 7,
     "metadata": {},
     "output_type": "execute_result"
    }
   ],
   "source": [
    "sess = tf.InteractiveSession()\n",
    "\n",
    "arr = np.array([[31, 23,  4, 24, 27, 34],\n",
    "                [18,  3, 25,  0,  6, 35],\n",
    "                [28, 14, 33, 22, 20,  8],\n",
    "                [13, 30, 21, 19,  7,  9],\n",
    "                [16,  1, 26, 32,  2, 29],\n",
    "                [17, 12,  5, 11, 10, 15]])\n",
    "# tf.rank(arr).eval()  #打印维度\n",
    "# tf.shape(arr).eval()  #打印形状\n",
    "tf.argmax(arr, 0).eval()  # 返回最大值的索引，参数为axis=0 \n",
    "# 0 -> 31 (arr[0, 0])\n",
    "# 3 -> 30 (arr[3, 1])\n",
    "# 2 -> 33 (arr[2, 2])\n",
    "#tf.argmax(arr, 1).eval()\n",
    "# 5 -> 34 (arr[0, 5])\n",
    "# 5 -> 35 (arr[1, 5])\n",
    "# 2 -> 33 (arr[2, 2])"
   ]
  },
  {
   "cell_type": "code",
   "execution_count": 9,
   "metadata": {},
   "outputs": [
    {
     "name": "stdout",
     "output_type": "stream",
     "text": [
      "Epoch: 000/050 cost: 1.176762396 train_acc: 0.840 test_acc: 0.853\n",
      "Epoch: 005/050 cost: 0.440920335 train_acc: 0.900 test_acc: 0.895\n",
      "Epoch: 010/050 cost: 0.383416917 train_acc: 0.890 test_acc: 0.904\n",
      "Epoch: 015/050 cost: 0.357289151 train_acc: 0.900 test_acc: 0.909\n",
      "Epoch: 020/050 cost: 0.341467555 train_acc: 0.860 test_acc: 0.913\n",
      "Epoch: 025/050 cost: 0.330538651 train_acc: 0.950 test_acc: 0.914\n",
      "Epoch: 030/050 cost: 0.322350215 train_acc: 0.960 test_acc: 0.916\n",
      "Epoch: 035/050 cost: 0.315969032 train_acc: 0.870 test_acc: 0.917\n",
      "Epoch: 040/050 cost: 0.310726665 train_acc: 0.900 test_acc: 0.918\n",
      "Epoch: 045/050 cost: 0.306377575 train_acc: 0.830 test_acc: 0.918\n",
      "Done\n"
     ]
    }
   ],
   "source": [
    "training_epochs = 50\n",
    "batch_size = 100\n",
    "display_step = 5\n",
    "#Session\n",
    "sess = tf.Session()\n",
    "sess.run(init)\n",
    "# mini-batch learning\n",
    "for epoch in range(training_epochs):\n",
    "    avg_cost = 0\n",
    "    num_batch = int(mnist.train.num_examples/batch_size)\n",
    "    for i in range(num_batch):\n",
    "        batch_xs, batch_ys = mnist.train.next_batch(batch_size)\n",
    "        sess.run(optm,feed_dict={x:batch_xs, y:batch_ys})\n",
    "        feeds = {x:batch_xs, y:batch_ys}\n",
    "        avg_cost += sess.run(cost, feed_dict=feeds)/num_batch\n",
    "    #display\n",
    "    if epoch % display_step == 0:\n",
    "        feeds_train = {x:batch_xs, y:batch_ys}\n",
    "        feeds_test = {x:mnist.test.images, y:mnist.test.labels}\n",
    "        train_acc = sess.run(accr, feed_dict=feeds_train)\n",
    "        test_acc = sess.run(accr, feed_dict = feeds_test)\n",
    "        print(\"Epoch: %03d/%03d cost: %.9f train_acc: %.3f test_acc: %.3f\"%\n",
    "             (epoch, training_epochs, avg_cost, train_acc, test_acc))\n",
    "print('Done')"
   ]
  },
  {
   "cell_type": "code",
   "execution_count": null,
   "metadata": {},
   "outputs": [],
   "source": []
  }
 ],
 "metadata": {
  "kernelspec": {
   "display_name": "Python 3",
   "language": "python",
   "name": "python3"
  },
  "language_info": {
   "codemirror_mode": {
    "name": "ipython",
    "version": 3
   },
   "file_extension": ".py",
   "mimetype": "text/x-python",
   "name": "python",
   "nbconvert_exporter": "python",
   "pygments_lexer": "ipython3",
   "version": "3.6.8"
  }
 },
 "nbformat": 4,
 "nbformat_minor": 2
}
