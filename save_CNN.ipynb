{
 "cells": [
  {
   "cell_type": "code",
   "execution_count": 3,
   "metadata": {},
   "outputs": [
    {
     "name": "stdout",
     "output_type": "stream",
     "text": [
      "Extracting MNIST_data/train-images-idx3-ubyte.gz\n",
      "Extracting MNIST_data/train-labels-idx1-ubyte.gz\n",
      "Extracting MNIST_data/t10k-images-idx3-ubyte.gz\n",
      "Extracting MNIST_data/t10k-labels-idx1-ubyte.gz\n"
     ]
    }
   ],
   "source": [
    "import numpy as np\n",
    "import tensorflow as tf\n",
    "import matplotlib.pyplot as plt\n",
    "from tensorflow.examples.tutorials.mnist import input_data\n",
    "\n",
    "import warnings\n",
    "warnings.filterwarnings('ignore')\n",
    "\n",
    "mnist = input_data.read_data_sets('MNIST_data/', one_hot=True)\n",
    "trainimg = mnist.train.images\n",
    "trainlabel = mnist.train.labels\n",
    "testimg = mnist.test.images\n",
    "testlabel = mnist.test.labels"
   ]
  },
  {
   "cell_type": "code",
   "execution_count": 4,
   "metadata": {},
   "outputs": [],
   "source": [
    "n_input = 784\n",
    "n_output = 10\n",
    "stddev = 0.1\n",
    "weights = {\n",
    "    'wc1': tf.Variable(tf.random_normal([3, 3, 1, 64],stddev=stddev)),\n",
    "    'wc2': tf.Variable(tf.random_normal([3, 3, 64, 128],stddev=stddev)),\n",
    "    'wd1': tf.Variable(tf.random_normal([7*7*128, 1024],stddev=stddev)),\n",
    "    'wd2': tf.Variable(tf.random_normal([1024, n_output],stddev=stddev)),\n",
    "}\n",
    "biases = {\n",
    "    'bc1': tf.Variable(tf.random_normal([64],stddev=stddev)),\n",
    "    'bc2': tf.Variable(tf.random_normal([128],stddev=stddev)),\n",
    "    'bd1': tf.Variable(tf.random_normal([1024],stddev=stddev)),\n",
    "    'bd2': tf.Variable(tf.random_normal([n_output],stddev=stddev))\n",
    "}"
   ]
  },
  {
   "cell_type": "code",
   "execution_count": 5,
   "metadata": {},
   "outputs": [],
   "source": [
    "def cov_basic(_input, _w, _b, _keepratio):\n",
    "    # INPUT ->(n,h,w,c) \n",
    "    # filter -> (f_h, f_w, filter in_channels, filter out_channels)\n",
    "    _input_r = tf.reshape(_input,shape=[-1, 28, 28, 1])\n",
    "    # CONV LAYER 1\n",
    "    # strides: first 1 represents stride of batch_size;second 1 represents \n",
    "    #          stride of h;third 1 represents stride of w;four 1 represents stride of c\n",
    "    _conv1 = tf.nn.conv2d(_input_r, _w['wc1'], strides=[1, 1, 1, 1], padding='SAME')\n",
    "    # _mean, _var = tf.nn.moments(_conv1, [0, 1, 2])\n",
    "    #_conv1 = tf.nn.batch_normalization(_conv1, _mean, _var, 0, 1, 0.0001)\n",
    "    _conv1 = tf.nn.relu(tf.nn.bias_add(_conv1, _b['bc1']))\n",
    "    # ksize ->[batch_size, h , w, c]\n",
    "    _pool1 = tf.nn.max_pool(_conv1, ksize=[1, 2, 2, 1], strides=[1, 2, 2, 1], padding='SAME')\n",
    "    _pool_dr1 = tf.nn.dropout(_pool1, _keepratio)\n",
    "    # CONV LAYER 2\n",
    "    _conv2 = tf.nn.conv2d(_pool_dr1, _w['wc2'], strides=[1, 1, 1, 1], padding='SAME')\n",
    "    # _mean, _var = tf.nn.moments(_conv2, [0, 1, 2])\n",
    "    #_conv2 = tf.nn.batch_normalization(_conv2, _mean, _var, 0, 1, 0.0001)\n",
    "    _conv2 = tf.nn.relu(tf.nn.bias_add(_conv2, _b['bc2']))\n",
    "    _pool2 = tf.nn.max_pool(_conv2, ksize=[1, 2, 2, 1], strides=[1, 2, 2, 1], padding='SAME')\n",
    "    _pool_dr2 = tf.nn.dropout(_pool2, _keepratio)\n",
    "    # VECTORIZE\n",
    "    _densel = tf.reshape(_pool_dr2, [-1, _w['wd1'].get_shape().as_list()[0]])\n",
    "    # FULLY CONNECTED LAYER 1\n",
    "    _fc1 = tf.nn.relu(tf.add(tf.matmul(_densel, _w['wd1']), _b['bd1']))\n",
    "    _fc_dr1 = tf.nn.dropout(_fc1, _keepratio)\n",
    "    # FULLY CONNECTED LAYER 2\n",
    "    _out = tf.add(tf.matmul(_fc_dr1, _w['wd2']), _b['bd2'])\n",
    "    # RETURN\n",
    "    out = { 'input_r':_input_r, 'conv1':_conv1, 'pool1':_pool1, 'pool_dr1':_pool_dr1,\n",
    "            'conv2':_conv2, 'pool2':_pool2, 'pool_dr2':_pool_dr2, 'densel':_densel,\n",
    "            'fc1':_fc1, 'fc_dr1':_fc_dr1, 'out':_out\n",
    "          }\n",
    "    return out"
   ]
  },
  {
   "cell_type": "code",
   "execution_count": 7,
   "metadata": {},
   "outputs": [
    {
     "name": "stdout",
     "output_type": "stream",
     "text": [
      "<tf.Variable 'Variable_9:0' shape=(3, 3, 1, 64) dtype=float32_ref>\n",
      "6272\n"
     ]
    }
   ],
   "source": [
    "a = tf.Variable(tf.random_normal([3, 3, 1, 64], stddev=0.1))\n",
    "print(a)\n",
    "a = tf.Print(a,[a],'a: ')\n",
    "b =  weights['wd1'].get_shape().as_list()[0]\n",
    "init = tf.global_variables_initializer()\n",
    "sess = tf.Session()\n",
    "sess.run(init)\n",
    "print(b)"
   ]
  },
  {
   "cell_type": "code",
   "execution_count": 5,
   "metadata": {},
   "outputs": [],
   "source": [
    "# print(help(tf.nn.conv2d))\n",
    "# print(help(tf.nn.max_pool))"
   ]
  },
  {
   "cell_type": "code",
   "execution_count": 9,
   "metadata": {},
   "outputs": [],
   "source": [
    "x = tf.placeholder(\"float\", [None, n_input])\n",
    "y = tf.placeholder('float', [None, n_output])\n",
    "keepratio = tf.placeholder(tf.float32)\n",
    "\n",
    "# Functions\n",
    "\n",
    "_pred = cov_basic(x, weights, biases, keepratio)['out']\n",
    "cost = tf.reduce_mean(tf.nn.softmax_cross_entropy_with_logits(logits=_pred, labels=y))\n",
    "optm = tf.train.AdamOptimizer(learning_rate=0.001).minimize(cost)\n",
    "_corr = tf.equal(tf.arg_max(_pred,1),tf.arg_max(y,1))\n",
    "accr = tf.reduce_mean(tf.cast(_corr,'float'))\n",
    "init = tf.global_variables_initializer()\n",
    "\n",
    "# SAVER\n",
    "save_step = 1\n",
    "saver = tf.train.Saver(max_to_keep=3)"
   ]
  },
  {
   "cell_type": "code",
   "execution_count": 12,
   "metadata": {},
   "outputs": [],
   "source": [
    "do_train = 0"
   ]
  },
  {
   "cell_type": "code",
   "execution_count": 13,
   "metadata": {},
   "outputs": [
    {
     "name": "stdout",
     "output_type": "stream",
     "text": [
      "Done\n"
     ]
    }
   ],
   "source": [
    "training_epochs = 15\n",
    "batch_size = 16\n",
    "display_step = 1\n",
    "#Session\n",
    "sess = tf.Session()\n",
    "sess.run(init)\n",
    "# mini-batch learning\n",
    "if do_train == 1:\n",
    "    for epoch in range(training_epochs):\n",
    "        avg_cost = 0\n",
    "        # total_batch = int(mnist.train.num_examples/batch_size)\n",
    "        total_batch=10\n",
    "        for i in range(total_batch):\n",
    "            batch_xs, batch_ys = mnist.train.next_batch(batch_size)\n",
    "            feeds={x:batch_xs, y:batch_ys, keepratio:0.7}\n",
    "            sess.run(optm,feed_dict=feeds)\n",
    "            avg_cost += sess.run(cost, feed_dict={x:batch_xs, y:batch_ys, keepratio:1.0})/total_batch\n",
    "        #display\n",
    "        if epoch % display_step == 0:\n",
    "            feeds_train = {x:batch_xs, y:batch_ys, keepratio:1.0}\n",
    "    #         feeds_test = {x:mnist.test.images, y:mnist.test.labels, keepratio:1.0}\n",
    "            train_acc = sess.run(accr, feed_dict=feeds_train)\n",
    "    #         test_acc = sess.run(accr, feed_dict = feeds_test)\n",
    "            print(\"Epoch: %03d/%03d cost: %.9f train_acc: %.3f \"%\n",
    "                 (epoch, training_epochs, avg_cost, train_acc))\n",
    "\n",
    "        if epoch % save_step == 0:\n",
    "            saver.save(sess,'save/nets/cnn_mnist_basic.ckpt-'+str(epoch))\n",
    "print('Done')"
   ]
  },
  {
   "cell_type": "code",
   "execution_count": 15,
   "metadata": {},
   "outputs": [
    {
     "name": "stdout",
     "output_type": "stream",
     "text": [
      "INFO:tensorflow:Restoring parameters from save/nets/cnn_mnist_basic.ckpt-14\n",
      "Test Accuracy : 0.844\n"
     ]
    }
   ],
   "source": [
    "if do_train ==0:\n",
    "    epoch = training_epochs-1\n",
    "    saver.restore(sess,'save/nets/cnn_mnist_basic.ckpt-'+str(epoch))\n",
    "    for i in range(20):\n",
    "        batch_test_xs, batch_test_ys = mnist.test.next_batch(500)\n",
    "        test_acc = sess.run(accr, feed_dict = {x: batch_test_xs, y:batch_test_ys, keepratio:1.})\n",
    "    print('Test Accuracy : %.3f'%(test_acc))"
   ]
  },
  {
   "cell_type": "code",
   "execution_count": null,
   "metadata": {},
   "outputs": [],
   "source": []
  }
 ],
 "metadata": {
  "kernelspec": {
   "display_name": "Python 3",
   "language": "python",
   "name": "python3"
  },
  "language_info": {
   "codemirror_mode": {
    "name": "ipython",
    "version": 3
   },
   "file_extension": ".py",
   "mimetype": "text/x-python",
   "name": "python",
   "nbconvert_exporter": "python",
   "pygments_lexer": "ipython3",
   "version": "3.6.8"
  }
 },
 "nbformat": 4,
 "nbformat_minor": 2
}
